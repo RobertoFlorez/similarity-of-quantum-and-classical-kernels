{
 "cells": [
  {
   "cell_type": "code",
   "execution_count": 3,
   "metadata": {},
   "outputs": [],
   "source": [
    "import sys\n",
    "sys.path.append(\"../\")"
   ]
  },
  {
   "cell_type": "code",
   "execution_count": 4,
   "metadata": {},
   "outputs": [
    {
     "name": "stdout",
     "output_type": "stream",
     "text": [
      "squlearn.encoding_circuit.__init__.py running\n"
     ]
    }
   ],
   "source": [
    "from circuits.circuits import Separable_rx, IQPLikeCircuit\n",
    "\n",
    "from squlearn.kernel import ProjectedQuantumKernel, FidelityKernel\n",
    "from qiskit.primitives import Estimator, Sampler\n",
    "from squlearn.util import Executor\n",
    "import numpy as np\n",
    "from models.manual_kernels import variance_off_diagonal\n",
    "import matplotlib.pyplot as plt\n",
    "\n",
    "from data_tools.get_dataset import load_dataset, load_dataset_without_quantum_cache,artificial_dataset\n",
    "from sklearn.svm import SVR, SVC\n",
    "\n",
    "#import sns color palette\n",
    "import seaborn as sns\n",
    "\n",
    "#from sklearn import rbf and poly kernels\n",
    "from sklearn.metrics.pairwise import rbf_kernel, polynomial_kernel"
   ]
  },
  {
   "cell_type": "code",
   "execution_count": 5,
   "metadata": {},
   "outputs": [],
   "source": [
    "\n",
    "import seaborn as sns\n",
    "import matplotlib.pyplot as plt\n",
    "\n",
    "\n",
    "from matplotlib import rc\n",
    "rc('text', usetex=True)\n",
    "\n",
    "\n",
    "sns.set_context(\"paper\", rc={\"font.size\":14,\"axes.titlesize\":16,\"axes.labelsize\":16, \n",
    "                             \"legend.fontsize\":14, \"xtick.labelsize\":16, \n",
    "                             \"ytick.labelsize\":16, \"legend.title_fontsize\":14,  'lines.linewidth': 3, 'lines.markersize': 6})\n"
   ]
  },
  {
   "cell_type": "code",
   "execution_count": 6,
   "metadata": {},
   "outputs": [
    {
     "data": {
      "image/png": "[encoded data removed]",
      "text/plain": [
       "<Figure size 700x200 with 1 Axes>"
      ]
     },
     "metadata": {},
     "output_type": "display_data"
    }
   ],
   "source": [
    "import numpy as np\n",
    "import matplotlib.pyplot as plt\n",
    "from scipy.stats import norm\n",
    "import seaborn as sns\n",
    "\n",
    "\n",
    "# Generate data points\n",
    "\n",
    "fig, axs = plt.subplots(1, 1, figsize=(7, 2)) #6 ,2\n",
    "x = np.linspace(-5, 5, 1000)\n",
    "\n",
    "# Parameters for the two Gaussian distributions\n",
    "mean1, std1 = -1, 0.8  # Mean and standard deviation for the first Gaussian\n",
    "mean2, std2 = 1, 1.2  # Mean and standard deviation for the second Gaussian\n",
    "\n",
    "#create a small gaussian to sum as noise\n",
    "mean3, std3 = 4, 0.5\n",
    "\n",
    "gaussian_1_label = r'$\\rho(\\mathbf{x})$'\n",
    "gaussian_2_label = r'$\\rho(\\mathbf{y})$'\n",
    "inner_product_label = r'$k(\\mathbf{x}, \\mathbf{y}) = \\langle \\rho(\\mathbf{x}), \\rho(\\mathbf{y}) \\rangle_{\\mathcal{H}}$'\n",
    "# Gaussian distributions\n",
    "y1 = norm.pdf(x, mean1, std1)\n",
    "y2 = norm.pdf(x, mean2, std2)  #+ norm.pdf(x, mean2*0, std2*0.3)*0.2\n",
    "\n",
    "#define color 1 and color 2, light blue and lighter blue\n",
    "color1 =  sns.color_palette(\"viridis\")[0] #Set2\n",
    "color2 =  sns.color_palette(\"viridis\")[2]\n",
    "color3 =  sns.color_palette(\"viridis\")[4]\n",
    "# Plot the two Gaussians\n",
    "plt.plot(x, y1, label=gaussian_1_label, color=color1)\n",
    "plt.plot(x, y2, label=gaussian_2_label, color=color2)\n",
    "\n",
    "# Find the minimum of the two Gaussians to highlight the overlap\n",
    "y_overlap = np.minimum(y1, y2)\n",
    "\n",
    "# Fill the overlapping region\n",
    "plt.fill_between(x, y_overlap, color=color3, alpha=1, label=inner_product_label)\n",
    "\n",
    "# Additional plot details\n",
    "plt.xlabel('X-axis')\n",
    "plt.ylabel('Probability Density')\n",
    "#legend more to the right\n",
    "plt.axis('off')\n",
    "\n",
    "#legend to the right of the plot#0.55\n",
    "plt.legend(loc='center left', bbox_to_anchor=(0.70, 0.65), frameon=False, fontsize=18)\n",
    "#save as svg\n",
    "#plt.savefig(\"two_gaussians_overlap_poster.png\", bbox_inches='tight', dpi=400)\n",
    "plt.tight_layout()\n"
   ]
  },
  {
   "cell_type": "code",
   "execution_count": null,
   "metadata": {},
   "outputs": [
    {
     "data": {
      "image/png": "[encoded data removed]",
      "text/plain": [
       "<Figure size 500x200 with 1 Axes>"
      ]
     },
     "metadata": {},
     "output_type": "display_data"
    }
   ],
   "source": [
    "import numpy as np\n",
    "import matplotlib.pyplot as plt\n",
    "from scipy.stats import norm\n",
    "import seaborn as sns\n",
    "\n",
    "\n",
    "# Generate data points\n",
    "\n",
    "fig, axs = plt.subplots(1, 1, figsize=(5, 2))\n",
    "x = np.linspace(-8, 8, 1000)\n",
    "\n",
    "plt.xlim(-8, 8)\n",
    "# Parameters for the two Gaussian distributions\n",
    "\n",
    "mean1, std1 = -2, 0.8  # Mean and standard deviation for the first Gaussian\n",
    "mean2, std2 = 3, 1.2  # Mean and standard deviation for the second Gaussian\n",
    "\n",
    "#create a small gaussian to sum as noise\n",
    "\n",
    "\n",
    "# Gaussian distributions\n",
    "bd = 1\n",
    "y1 = norm.pdf(x*bd, mean1, std1)\n",
    "y2 = norm.pdf(x*bd, mean2, std2)  #+ norm.pdf(x, mean2*0, std2*0.3)*0.2\n",
    "\n",
    "\n",
    "#define color 1 and color 2, light blue and lighter blue\n",
    "color1 =  sns.color_palette(\"viridis\")[0] #Set2\n",
    "color2 =  sns.color_palette(\"viridis\")[2]\n",
    "color3 =  sns.color_palette(\"viridis\")[4]\n",
    "# Plot the two Gaussians\n",
    "plt.plot(x, y1, label=r'$|\\phi(x_1)\\rangle$', color=color1)\n",
    "plt.plot(x, y2, label=r'$|\\phi(x_2)\\rangle$', color=color2)\n",
    "\n",
    "# Find the minimum of the two Gaussians to highlight the overlap\n",
    "y_overlap = np.minimum(y1, y2)\n",
    "\n",
    "# Fill the overlapping region\n",
    "plt.fill_between(x, y_overlap, color=color3, alpha=1, label=r\"$k(x_1, x_2) = \\langle \\phi(x_1), \\phi(x_2) \\rangle_{\\mathcal{H}}$\")\n",
    "\n",
    "# Additional plot details\n",
    "plt.xlabel('X-axis')\n",
    "plt.ylabel('Probability Density')\n",
    "#legend more to the right\n",
    "plt.axis('off')\n",
    "\n",
    "#legend to the right of the plot, color white, font color white\n",
    "plt.legend(loc='center left', bbox_to_anchor=(0.70, 0.55), frameon=False, fontsize=18, facecolor='white', edgecolor='white', labelcolor='white')\n",
    "#manually modify the legend symbols\n",
    "plt.gca().get_legend().legend_handles[0].set_color(\"white\")\n",
    "plt.gca().get_legend().legend_handles[1].set_color(\"white\")\n",
    "plt.gca().get_legend().legend_handles[2].set_color(\"white\")\n",
    "#change zorder \n",
    "plt.gca().get_legend().set_zorder(00)\n",
    "\n",
    "#plt.savefig(\"two_gaussians_far.svg\", bbox_inches='tight', dpi=400)\n",
    "plt.tight_layout()\n",
    "\n",
    "#plot now for \n",
    "plt.show()\n"
   ]
  },
  {
   "cell_type": "code",
   "execution_count": null,
   "metadata": {},
   "outputs": [
    {
     "data": {
      "image/png": "[encoded data removed]",
      "text/plain": [
       "<Figure size 500x200 with 1 Axes>"
      ]
     },
     "metadata": {},
     "output_type": "display_data"
    }
   ],
   "source": [
    "import numpy as np\n",
    "import matplotlib.pyplot as plt\n",
    "from scipy.stats import norm\n",
    "import seaborn as sns\n",
    "\n",
    "\n",
    "# Generate data points\n",
    "\n",
    "fig, axs = plt.subplots(1, 1, figsize=(5, 2))\n",
    "x = np.linspace(-8, 8, 1000)\n",
    "\n",
    "plt.xlim(-8, 8)\n",
    "# Parameters for the two Gaussian distributions\n",
    "\n",
    "mean1, std1 = -2, 0.8  # Mean and standard deviation for the first Gaussian\n",
    "mean2, std2 = 3, 1.2  # Mean and standard deviation for the second Gaussian\n",
    "\n",
    "#create a small gaussian to sum as noise\n",
    "\n",
    "\n",
    "# Gaussian distributions\n",
    "bd = 0.1\n",
    "y1 = norm.pdf(x*bd, mean1, std1)\n",
    "y2 = norm.pdf(x*bd, mean2, std2)  #+ norm.pdf(x, mean2*0, std2*0.3)*0.2\n",
    "\n",
    "\n",
    "#define color 1 and color 2, light blue and lighter blue\n",
    "color1 =  sns.color_palette(\"viridis\")[0] #Set2\n",
    "color2 =  sns.color_palette(\"viridis\")[2]\n",
    "color3 =  sns.color_palette(\"viridis\")[4]\n",
    "# Plot the two Gaussians\n",
    "plt.plot(x, y1, label=r'$|\\phi(x_1)\\rangle$', color=color1)\n",
    "plt.plot(x, y2, label=r'$|\\phi(x_2)\\rangle$', color=color2)\n",
    "\n",
    "# Find the minimum of the two Gaussians to highlight the overlap\n",
    "y_overlap = np.minimum(y1, y2)\n",
    "\n",
    "# Fill the overlapping region\n",
    "plt.fill_between(x, y_overlap, color=color3, alpha=1, label=r\"$k(x_1, x_2) = \\langle \\phi(x_1), \\phi(x_2) \\rangle_{\\mathcal{H}}$\")\n",
    "\n",
    "# Additional plot details\n",
    "plt.xlabel('X-axis')\n",
    "plt.ylabel('Probability Density')\n",
    "#legend more to the right\n",
    "plt.axis('off')\n",
    "\n",
    "#legend to the right of the plot, color white, font color white\n",
    "plt.legend(loc='center left', bbox_to_anchor=(0.70, 0.55), frameon=False, fontsize=18, facecolor='black', edgecolor='white', labelcolor='black')\n",
    "#manually modify the legend symbols\n",
    "plt.gca().get_legend().legend_handles[0].set_color(\"white\")\n",
    "plt.gca().get_legend().legend_handles[1].set_color(\"white\")\n",
    "plt.gca().get_legend().legend_handles[2].set_color(\"white\")\n",
    "#change zorder \n",
    "plt.gca().get_legend().set_zorder(00)\n",
    "\n",
    "#remove legend\n",
    "plt.legend().remove()\n",
    "\n",
    "\n",
    "\n",
    "\n",
    "#plot now for \n",
    "#plt.savefig(\"two_gaussians_far_with_c.svg\", bbox_inches='tight', dpi=400)\n",
    "plt.tight_layout()\n",
    "\n",
    "plt.show()\n"
   ]
  }
 ],
 "metadata": {
  "kernelspec": {
   "display_name": ".venv",
   "language": "python",
   "name": "python3"
  },
  "language_info": {
   "codemirror_mode": {
    "name": "ipython",
    "version": 3
   },
   "file_extension": ".py",
   "mimetype": "text/x-python",
   "name": "python",
   "nbconvert_exporter": "python",
   "pygments_lexer": "ipython3",
   "version": "3.10.11"
  }
 },
 "nbformat": 4,
 "nbformat_minor": 2
}
